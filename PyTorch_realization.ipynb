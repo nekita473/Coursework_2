{
 "cells": [
  {
   "cell_type": "code",
   "execution_count": 27,
   "metadata": {},
   "outputs": [],
   "source": [
    "import torch\n",
    "import pandas as pd\n",
    "import numpy as np\n",
    "from torch import nn\n",
    "from torch.nn.parameter import Parameter\n",
    "from sklearn.model_selection import train_test_split\n",
    "from torch.nn import MarginRankingLoss\n",
    "from torch import ones_like\n",
    "import networkx as nx\n",
    "from tqdm.autonotebook import tqdm"
   ]
  },
  {
   "cell_type": "code",
   "execution_count": 2,
   "metadata": {},
   "outputs": [],
   "source": [
    "x = nx.read_graphml('q42889.graphml')"
   ]
  },
  {
   "cell_type": "code",
   "execution_count": 3,
   "metadata": {},
   "outputs": [],
   "source": [
    "head = []\n",
    "tail = []\n",
    "relation = []\n",
    "for i in x.edges:\n",
    "    head.append(i[0])\n",
    "    tail.append(i[1])\n",
    "    relation.append(i[2])"
   ]
  },
  {
   "cell_type": "code",
   "execution_count": 4,
   "metadata": {},
   "outputs": [],
   "source": [
    "df = pd.DataFrame(columns=['from', 'to', 'rel'])\n",
    "df['from'] = head\n",
    "df['to'] = tail\n",
    "df['rel'] = relation"
   ]
  },
  {
   "cell_type": "code",
   "execution_count": 5,
   "metadata": {},
   "outputs": [
    {
     "data": {
      "text/html": [
       "<div>\n",
       "<style scoped>\n",
       "    .dataframe tbody tr th:only-of-type {\n",
       "        vertical-align: middle;\n",
       "    }\n",
       "\n",
       "    .dataframe tbody tr th {\n",
       "        vertical-align: top;\n",
       "    }\n",
       "\n",
       "    .dataframe thead th {\n",
       "        text-align: right;\n",
       "    }\n",
       "</style>\n",
       "<table border=\"1\" class=\"dataframe\">\n",
       "  <thead>\n",
       "    <tr style=\"text-align: right;\">\n",
       "      <th></th>\n",
       "      <th>from</th>\n",
       "      <th>to</th>\n",
       "      <th>rel</th>\n",
       "    </tr>\n",
       "  </thead>\n",
       "  <tbody>\n",
       "    <tr>\n",
       "      <th>0</th>\n",
       "      <td>n0</td>\n",
       "      <td>n0</td>\n",
       "      <td>0</td>\n",
       "    </tr>\n",
       "    <tr>\n",
       "      <th>1</th>\n",
       "      <td>n0</td>\n",
       "      <td>n60</td>\n",
       "      <td>0</td>\n",
       "    </tr>\n",
       "    <tr>\n",
       "      <th>2</th>\n",
       "      <td>n0</td>\n",
       "      <td>n61</td>\n",
       "      <td>0</td>\n",
       "    </tr>\n",
       "    <tr>\n",
       "      <th>3</th>\n",
       "      <td>n0</td>\n",
       "      <td>n62</td>\n",
       "      <td>0</td>\n",
       "    </tr>\n",
       "    <tr>\n",
       "      <th>4</th>\n",
       "      <td>n0</td>\n",
       "      <td>n63</td>\n",
       "      <td>0</td>\n",
       "    </tr>\n",
       "    <tr>\n",
       "      <th>...</th>\n",
       "      <td>...</td>\n",
       "      <td>...</td>\n",
       "      <td>...</td>\n",
       "    </tr>\n",
       "    <tr>\n",
       "      <th>182920</th>\n",
       "      <td>n51774</td>\n",
       "      <td>n7795</td>\n",
       "      <td>0</td>\n",
       "    </tr>\n",
       "    <tr>\n",
       "      <th>182921</th>\n",
       "      <td>n51774</td>\n",
       "      <td>n12099</td>\n",
       "      <td>0</td>\n",
       "    </tr>\n",
       "    <tr>\n",
       "      <th>182922</th>\n",
       "      <td>n51774</td>\n",
       "      <td>n14385</td>\n",
       "      <td>0</td>\n",
       "    </tr>\n",
       "    <tr>\n",
       "      <th>182923</th>\n",
       "      <td>n51774</td>\n",
       "      <td>n30611</td>\n",
       "      <td>0</td>\n",
       "    </tr>\n",
       "    <tr>\n",
       "      <th>182924</th>\n",
       "      <td>n51774</td>\n",
       "      <td>n39352</td>\n",
       "      <td>0</td>\n",
       "    </tr>\n",
       "  </tbody>\n",
       "</table>\n",
       "<p>182925 rows × 3 columns</p>\n",
       "</div>"
      ],
      "text/plain": [
       "          from      to  rel\n",
       "0           n0      n0    0\n",
       "1           n0     n60    0\n",
       "2           n0     n61    0\n",
       "3           n0     n62    0\n",
       "4           n0     n63    0\n",
       "...        ...     ...  ...\n",
       "182920  n51774   n7795    0\n",
       "182921  n51774  n12099    0\n",
       "182922  n51774  n14385    0\n",
       "182923  n51774  n30611    0\n",
       "182924  n51774  n39352    0\n",
       "\n",
       "[182925 rows x 3 columns]"
      ]
     },
     "execution_count": 5,
     "metadata": {},
     "output_type": "execute_result"
    }
   ],
   "source": [
    "df"
   ]
  },
  {
   "cell_type": "code",
   "execution_count": 6,
   "metadata": {},
   "outputs": [],
   "source": [
    "d_1 = {}\n",
    "k = 0\n",
    "for i in df['from']:\n",
    "    if i not in d_1:\n",
    "        d_1[i] = k\n",
    "        k+=1\n",
    "for i in df['to']:\n",
    "    if i not in d_1:\n",
    "        d_1[i] = k\n",
    "        k+=1"
   ]
  },
  {
   "cell_type": "code",
   "execution_count": 7,
   "metadata": {},
   "outputs": [
    {
     "name": "stderr",
     "output_type": "stream",
     "text": [
      "/home/nekita473/anaconda3/lib/python3.7/site-packages/ipykernel_launcher.py:2: SettingWithCopyWarning: \n",
      "A value is trying to be set on a copy of a slice from a DataFrame\n",
      "\n",
      "See the caveats in the documentation: https://pandas.pydata.org/pandas-docs/stable/user_guide/indexing.html#returning-a-view-versus-a-copy\n",
      "  \n",
      "/home/nekita473/anaconda3/lib/python3.7/site-packages/ipykernel_launcher.py:4: SettingWithCopyWarning: \n",
      "A value is trying to be set on a copy of a slice from a DataFrame\n",
      "\n",
      "See the caveats in the documentation: https://pandas.pydata.org/pandas-docs/stable/user_guide/indexing.html#returning-a-view-versus-a-copy\n",
      "  after removing the cwd from sys.path.\n"
     ]
    }
   ],
   "source": [
    "for i, j in enumerate(df['from']):\n",
    "    df['from'][i] = d_1[j]\n",
    "for i, j in enumerate(df['to']):\n",
    "    df['to'][i] = d_1[j]"
   ]
  },
  {
   "cell_type": "code",
   "execution_count": 8,
   "metadata": {},
   "outputs": [
    {
     "data": {
      "text/html": [
       "<div>\n",
       "<style scoped>\n",
       "    .dataframe tbody tr th:only-of-type {\n",
       "        vertical-align: middle;\n",
       "    }\n",
       "\n",
       "    .dataframe tbody tr th {\n",
       "        vertical-align: top;\n",
       "    }\n",
       "\n",
       "    .dataframe thead th {\n",
       "        text-align: right;\n",
       "    }\n",
       "</style>\n",
       "<table border=\"1\" class=\"dataframe\">\n",
       "  <thead>\n",
       "    <tr style=\"text-align: right;\">\n",
       "      <th></th>\n",
       "      <th>from</th>\n",
       "      <th>to</th>\n",
       "      <th>rel</th>\n",
       "    </tr>\n",
       "  </thead>\n",
       "  <tbody>\n",
       "    <tr>\n",
       "      <th>0</th>\n",
       "      <td>0</td>\n",
       "      <td>0</td>\n",
       "      <td>0</td>\n",
       "    </tr>\n",
       "    <tr>\n",
       "      <th>1</th>\n",
       "      <td>0</td>\n",
       "      <td>24806</td>\n",
       "      <td>0</td>\n",
       "    </tr>\n",
       "    <tr>\n",
       "      <th>2</th>\n",
       "      <td>0</td>\n",
       "      <td>24807</td>\n",
       "      <td>0</td>\n",
       "    </tr>\n",
       "    <tr>\n",
       "      <th>3</th>\n",
       "      <td>0</td>\n",
       "      <td>24808</td>\n",
       "      <td>0</td>\n",
       "    </tr>\n",
       "    <tr>\n",
       "      <th>4</th>\n",
       "      <td>0</td>\n",
       "      <td>24809</td>\n",
       "      <td>0</td>\n",
       "    </tr>\n",
       "    <tr>\n",
       "      <th>...</th>\n",
       "      <td>...</td>\n",
       "      <td>...</td>\n",
       "      <td>...</td>\n",
       "    </tr>\n",
       "    <tr>\n",
       "      <th>182920</th>\n",
       "      <td>24805</td>\n",
       "      <td>2271</td>\n",
       "      <td>0</td>\n",
       "    </tr>\n",
       "    <tr>\n",
       "      <th>182921</th>\n",
       "      <td>24805</td>\n",
       "      <td>3809</td>\n",
       "      <td>0</td>\n",
       "    </tr>\n",
       "    <tr>\n",
       "      <th>182922</th>\n",
       "      <td>24805</td>\n",
       "      <td>4738</td>\n",
       "      <td>0</td>\n",
       "    </tr>\n",
       "    <tr>\n",
       "      <th>182923</th>\n",
       "      <td>24805</td>\n",
       "      <td>13386</td>\n",
       "      <td>0</td>\n",
       "    </tr>\n",
       "    <tr>\n",
       "      <th>182924</th>\n",
       "      <td>24805</td>\n",
       "      <td>49980</td>\n",
       "      <td>0</td>\n",
       "    </tr>\n",
       "  </tbody>\n",
       "</table>\n",
       "<p>182925 rows × 3 columns</p>\n",
       "</div>"
      ],
      "text/plain": [
       "         from     to  rel\n",
       "0           0      0    0\n",
       "1           0  24806    0\n",
       "2           0  24807    0\n",
       "3           0  24808    0\n",
       "4           0  24809    0\n",
       "...       ...    ...  ...\n",
       "182920  24805   2271    0\n",
       "182921  24805   3809    0\n",
       "182922  24805   4738    0\n",
       "182923  24805  13386    0\n",
       "182924  24805  49980    0\n",
       "\n",
       "[182925 rows x 3 columns]"
      ]
     },
     "execution_count": 8,
     "metadata": {},
     "output_type": "execute_result"
    }
   ],
   "source": [
    "df"
   ]
  },
  {
   "cell_type": "code",
   "execution_count": 9,
   "metadata": {},
   "outputs": [],
   "source": [
    "E = df[['from','to']].to_numpy()"
   ]
  },
  {
   "cell_type": "code",
   "execution_count": 10,
   "metadata": {},
   "outputs": [
    {
     "data": {
      "text/plain": [
       "array([[0, 0],\n",
       "       [0, 24806],\n",
       "       [0, 24807],\n",
       "       ...,\n",
       "       [24805, 4738],\n",
       "       [24805, 13386],\n",
       "       [24805, 49980]], dtype=object)"
      ]
     },
     "execution_count": 10,
     "metadata": {},
     "output_type": "execute_result"
    }
   ],
   "source": [
    "E"
   ]
  },
  {
   "cell_type": "code",
   "execution_count": 11,
   "metadata": {},
   "outputs": [],
   "source": [
    "r = df['rel'].to_numpy()"
   ]
  },
  {
   "cell_type": "code",
   "execution_count": 12,
   "metadata": {},
   "outputs": [],
   "source": [
    "r = r.reshape(-1,1)"
   ]
  },
  {
   "cell_type": "code",
   "execution_count": 13,
   "metadata": {},
   "outputs": [],
   "source": [
    "E_train, E_test, r_train, r_test = train_test_split(E, r)"
   ]
  },
  {
   "cell_type": "code",
   "execution_count": 14,
   "metadata": {},
   "outputs": [],
   "source": [
    "E_train_1 = np.array([np.zeros(shape=(len(E_train),1)),np.zeros(shape=(len(E_train),1))])\n",
    "E_test_1 = np.array([np.zeros(shape=(len(E_test),1)),np.zeros(shape=(len(E_test),1))])"
   ]
  },
  {
   "cell_type": "code",
   "execution_count": 15,
   "metadata": {},
   "outputs": [],
   "source": [
    "for i in range(len(E_train)):\n",
    "    E_train_1[0][i] = E_train[i][0]\n",
    "    E_train_1[1][i] = E_train[i][1]\n",
    "for i in range(len(E_test)):\n",
    "    E_test_1[0][i] = E_test[i][0]\n",
    "    E_test_1[1][i] = E_test[i][1]"
   ]
  },
  {
   "cell_type": "code",
   "execution_count": 16,
   "metadata": {},
   "outputs": [],
   "source": [
    "E_train = torch.LongTensor(E_train_1)\n",
    "E_test = torch.LongTensor(E_test_1)\n",
    "r_train = torch.LongTensor(r_train)\n",
    "r_test = torch.LongTensor(r_test)"
   ]
  },
  {
   "cell_type": "code",
   "execution_count": 17,
   "metadata": {},
   "outputs": [],
   "source": [
    "def batch_generator(X, y, batch_size):\n",
    "    np.random.seed(42)\n",
    "    perm = np.random.permutation(len(X[0]))\n",
    "    X_1 = X[0][perm]\n",
    "    X_2 = X[1][perm]\n",
    "    y = y[perm]\n",
    "    num_samples = X[0].shape[0]\n",
    "    num_batches = num_samples // batch_size\n",
    "    if(num_samples <= batch_size):\n",
    "        yield(X_1, X_2, y)\n",
    "    else:\n",
    "        if(num_samples % batch_size == 0):\n",
    "            for i in range(num_batches):\n",
    "                yield(X_1[batch_size*i:batch_size*(i+1)], X_2[batch_size*i:batch_size*(i+1)], y[batch_size*i:batch_size*(i+1)])\n",
    "        else:\n",
    "            for i in range(num_batches):\n",
    "                yield(X_1[batch_size*i:batch_size*(i+1)], X_2[batch_size*i:batch_size*(i+1)], y[batch_size*i:batch_size*(i+1)])\n",
    "            yield(X_1[batch_size*num_batches:], X_2[batch_size*num_batches:], y[batch_size*num_batches:])"
   ]
  },
  {
   "cell_type": "code",
   "execution_count": 18,
   "metadata": {},
   "outputs": [],
   "source": [
    "class norm_1d(nn.Module):\n",
    "    def __init__(self):\n",
    "        super().__init__()\n",
    "    def forward(self,X):\n",
    "        for i in range(len(X)):\n",
    "            X[i]= X[i]/torch.norm(X[i])\n",
    "        return Parameter(X)"
   ]
  },
  {
   "cell_type": "code",
   "execution_count": 38,
   "metadata": {},
   "outputs": [],
   "source": [
    "class TransE(nn.Module):\n",
    "    def __init__(self, n_ent, n_rel, k):\n",
    "        super().__init__()\n",
    "        self.r = np.zeros(shape=(n_rel,k))\n",
    "        for i in range(len(self.r)):\n",
    "            self.r[i] = np.random.uniform(-6/np.sqrt(k), 6/np.sqrt(k), (1,k))\n",
    "            self.r[i] = self.r[i]/np.linalg.norm(self.r[i])\n",
    "        self.r = Parameter(torch.tensor(self.r, requires_grad = True))\n",
    "        self.e = np.zeros(shape=(n_ent,k))\n",
    "        for i in range(len(self.e)):\n",
    "            self.e[i] = np.random.uniform(-6/np.sqrt(k), 6/np.sqrt(k), (1,k))\n",
    "            self.e[i] = self.e[i]/np.linalg.norm(self.e[i])\n",
    "        self.e = Parameter(torch.tensor(self.e, requires_grad = True))\n",
    "        #self.norm = norm_1d()\n",
    "    \n",
    "    def forward(self, T, H, r, T_bad, H_bad):\n",
    "        #for i in range(len(self.e)):\n",
    "            #self.e[i] = self.e[i]/torch.norm(self.e[i])\n",
    "        #self.e = self.norm(self.e)\n",
    "        return nn.functional.pairwise_distance(self.e[H] + self.r[r], self.e[T]), nn.functional.pairwise_distance(self.e[H_bad] + self.r[r], self.e[T_bad])"
   ]
  },
  {
   "cell_type": "code",
   "execution_count": 39,
   "metadata": {},
   "outputs": [],
   "source": [
    "def get_corrupted_batch(H_batch, T_batch):\n",
    "    H_bad_batch = H_batch.clone()\n",
    "    T_bad_batch = T_batch.clone()\n",
    "    for i in range(len(H_batch)):\n",
    "        p = np.random.randint(0,2)\n",
    "        pp = np.random.randint(0,len(model.e))\n",
    "        if(p==1):\n",
    "            H_bad_batch[i] = pp\n",
    "        else:\n",
    "            T_bad_batch[i] = pp\n",
    "    return H_bad_batch, T_bad_batch"
   ]
  },
  {
   "cell_type": "code",
   "execution_count": 40,
   "metadata": {},
   "outputs": [],
   "source": [
    "def train(E_train, r_train, num_epoch):\n",
    "    iterator = tqdm(range(num_epoch), unit='epoch')\n",
    "    train_losses = []\n",
    "    for epoch in iterator:\n",
    "        epoch_train_losses = []\n",
    "        for H_batch, T_batch, r_batch in batch_generator(E_train, r_train, 5000):\n",
    "            H_bad_batch, T_bad_batch = get_corrupted_batch(H_batch, T_batch)\n",
    "            model.train(True)\n",
    "            positive_score, negative_score = model.forward(H_batch, T_batch, r_batch, H_bad_batch, T_bad_batch)\n",
    "            loss = loss_fn(positive_score,negative_score, target=ones_like(positive_score))\n",
    "            optimizer.zero_grad()\n",
    "            loss.backward()\n",
    "            optimizer.step()\n",
    "            epoch_train_losses.append(loss.item())\n",
    "        train_losses.append(np.mean(epoch_train_losses))\n",
    "        print(np.mean(epoch_train_losses))\n",
    "    return train_losses"
   ]
  },
  {
   "cell_type": "code",
   "execution_count": 41,
   "metadata": {},
   "outputs": [],
   "source": [
    "model = TransE(len(d_1), len(df['rel'].unique()), 50)\n",
    "loss_fn = MarginRankingLoss(margin=0.5)\n",
    "optimizer = torch.optim.Adam(model.parameters(), 1e-1)"
   ]
  },
  {
   "cell_type": "code",
   "execution_count": 42,
   "metadata": {},
   "outputs": [],
   "source": [
    "if(torch.cuda.is_available()):\n",
    "    model=model.cuda()\n",
    "    E_train, r_train = E_train.cuda(), r_train.cuda()"
   ]
  },
  {
   "cell_type": "code",
   "execution_count": 43,
   "metadata": {
    "scrolled": true
   },
   "outputs": [
    {
     "data": {
      "application/vnd.jupyter.widget-view+json": {
       "model_id": "3a1bba5d1bc241779a682de4fa78b02c",
       "version_major": 2,
       "version_minor": 0
      },
      "text/plain": [
       "HBox(children=(FloatProgress(value=0.0, max=10.0), HTML(value='')))"
      ]
     },
     "metadata": {},
     "output_type": "display_data"
    },
    {
     "name": "stdout",
     "output_type": "stream",
     "text": [
      "0.41485032198889904\n",
      "0.267554299899398\n",
      "0.22614545051975102\n",
      "0.2082268393775111\n",
      "0.19954813101286664\n",
      "0.19337819266113346\n",
      "0.1876495447058991\n",
      "0.1855179289725725\n",
      "0.18305191154003278\n",
      "0.1801217313899847\n",
      "\n"
     ]
    }
   ],
   "source": [
    "train_losses = train(E_train, r_train, 10)"
   ]
  },
  {
   "cell_type": "code",
   "execution_count": 44,
   "metadata": {},
   "outputs": [
    {
     "data": {
      "text/plain": [
       "Parameter containing:\n",
       "tensor([[-1.9690e+00, -2.5020e-02,  1.4041e+00,  ...,  1.4582e+00,\n",
       "         -7.9346e-01,  1.4963e+00],\n",
       "        [ 1.7680e-01, -6.2436e-01,  8.0666e-01,  ...,  1.5215e-03,\n",
       "          2.7196e-01, -5.0512e-01],\n",
       "        [-1.1150e+00, -1.7116e+00, -1.3763e+00,  ...,  4.6120e-01,\n",
       "         -4.9704e-01,  9.2473e-01],\n",
       "        ...,\n",
       "        [ 1.5034e+00, -7.7526e-01,  1.4366e+00,  ..., -2.3115e+00,\n",
       "          1.7895e+00, -1.8363e+00],\n",
       "        [ 7.8721e-01, -7.2621e-01, -9.0434e-01,  ..., -3.7629e-01,\n",
       "          9.1154e-01, -6.4958e-01],\n",
       "        [ 1.0715e+00,  9.1338e-01, -1.5496e+00,  ..., -1.4035e+00,\n",
       "          6.2862e-01,  2.7258e-02]], device='cuda:0', dtype=torch.float64,\n",
       "       requires_grad=True)"
      ]
     },
     "execution_count": 44,
     "metadata": {},
     "output_type": "execute_result"
    }
   ],
   "source": [
    "model.e"
   ]
  },
  {
   "cell_type": "code",
   "execution_count": 45,
   "metadata": {},
   "outputs": [
    {
     "data": {
      "text/plain": [
       "Parameter containing:\n",
       "tensor([[ 8.7844e-01,  1.6697e-01, -1.0302e-01,  ..., -9.2849e-01,\n",
       "          7.0632e-01, -1.8086e+00],\n",
       "        [ 2.6495e-01, -3.4130e-01, -2.5624e-01,  ..., -3.0092e-01,\n",
       "          2.8551e-01, -8.8260e-01],\n",
       "        [ 3.1197e-02,  6.7299e-02,  8.3738e-02,  ...,  1.7662e-01,\n",
       "          2.5073e-01, -9.8378e-01],\n",
       "        ...,\n",
       "        [ 1.7673e-01, -9.9844e-02,  1.6517e-01,  ..., -2.5897e-04,\n",
       "         -1.9014e-01, -1.4624e-01],\n",
       "        [ 1.3649e-01, -1.9418e-01, -4.8421e-03,  ...,  2.3598e-01,\n",
       "         -1.6356e-01, -6.7364e-02],\n",
       "        [-9.7498e-02,  3.4697e-01,  4.6006e-02,  ..., -1.0178e-01,\n",
       "          1.4740e-01,  1.0185e-01]], device='cuda:0', dtype=torch.float64,\n",
       "       requires_grad=True)"
      ]
     },
     "execution_count": 45,
     "metadata": {},
     "output_type": "execute_result"
    }
   ],
   "source": [
    "model.r"
   ]
  },
  {
   "cell_type": "code",
   "execution_count": null,
   "metadata": {},
   "outputs": [],
   "source": []
  }
 ],
 "metadata": {
  "kernelspec": {
   "display_name": "Python 3",
   "language": "python",
   "name": "python3"
  },
  "language_info": {
   "codemirror_mode": {
    "name": "ipython",
    "version": 3
   },
   "file_extension": ".py",
   "mimetype": "text/x-python",
   "name": "python",
   "nbconvert_exporter": "python",
   "pygments_lexer": "ipython3",
   "version": "3.7.6"
  }
 },
 "nbformat": 4,
 "nbformat_minor": 4
}
